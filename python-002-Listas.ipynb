{
  "nbformat": 4,
  "nbformat_minor": 0,
  "metadata": {
    "colab": {
      "name": "python-#002-Listas.ipynb",
      "provenance": [],
      "collapsed_sections": []
    },
    "kernelspec": {
      "name": "python3",
      "display_name": "Python 3"
    },
    "language_info": {
      "name": "python"
    }
  },
  "cells": [
    {
      "cell_type": "markdown",
      "metadata": {
        "id": "1F8PJwQl6ue5"
      },
      "source": [
        "## Listas\n",
        "\n",
        "Una lista es una colección de elementos en un orden particular"
      ]
    },
    {
      "cell_type": "code",
      "metadata": {
        "colab": {
          "base_uri": "https://localhost:8080/"
        },
        "id": "L1iz6NOu6nPl",
        "outputId": "940b40ea-56e5-4d19-e315-d9ca830b5e15"
      },
      "source": [
        "# Definiendo una lista\n",
        "# Las listas se definen entre corchetes, y los elementos se separan mediante comas\n",
        "\n",
        "bicicletas = ['trek', 'cannondale', 'redline', 'specialized']\n",
        "print (bicicletas)"
      ],
      "execution_count": null,
      "outputs": [
        {
          "output_type": "stream",
          "name": "stdout",
          "text": [
            "['trek', 'cannondale', 'redline', 'specialized']\n"
          ]
        }
      ]
    },
    {
      "cell_type": "code",
      "metadata": {
        "colab": {
          "base_uri": "https://localhost:8080/"
        },
        "id": "hmVRTjjA78mG",
        "outputId": "3f15c2ae-c258-4c77-9c16-0b4483561393"
      },
      "source": [
        "# Para acceder a un elemento particular de una lista se recurre a un índice\n",
        "# El primer elemento de la lista tiene índice cero \n",
        "# El segundo elemento de la lista tiene índice uno, y así sucesivamente\n",
        "\n",
        "print (bicicletas[0]) # Se imprime el primer elemento: [0]\n",
        "print (bicicletas[1]) # Se imprime el segundo elemento: [1]"
      ],
      "execution_count": null,
      "outputs": [
        {
          "output_type": "stream",
          "name": "stdout",
          "text": [
            "trek\n",
            "cannondale\n"
          ]
        }
      ]
    },
    {
      "cell_type": "code",
      "metadata": {
        "colab": {
          "base_uri": "https://localhost:8080/"
        },
        "id": "NC4Syxrb8b9o",
        "outputId": "924f9fcb-01fb-4545-c5e0-6c6dc0c7ee67"
      },
      "source": [
        "# Siempre que sea posible, se podrán combinar métodos\n",
        "\n",
        "print (bicicletas[0].title())  # En lugar de mostrar trek, muestra Trek"
      ],
      "execution_count": null,
      "outputs": [
        {
          "output_type": "stream",
          "name": "stdout",
          "text": [
            "Trek\n"
          ]
        }
      ]
    },
    {
      "cell_type": "code",
      "metadata": {
        "colab": {
          "base_uri": "https://localhost:8080/"
        },
        "id": "dfRXvaDd3Tj3",
        "outputId": "0e6fbf1e-7c66-47fb-86c0-7710b140019f"
      },
      "source": [
        "# Concatenando diferentes elementos\n",
        "\n",
        "print (\"Mi primera bicicleta fue una \" + bicicletas[0].title() + \".\")"
      ],
      "execution_count": null,
      "outputs": [
        {
          "output_type": "stream",
          "name": "stdout",
          "text": [
            "Mi primera bicicleta fue una Trek.\n"
          ]
        }
      ]
    },
    {
      "cell_type": "code",
      "metadata": {
        "colab": {
          "base_uri": "https://localhost:8080/"
        },
        "id": "QSCub4RH8yoG",
        "outputId": "f6611d2d-0e57-4057-c124-c356dc04ad46"
      },
      "source": [
        "# Se puede acceder al último elemento de una lista utilizando el índice -1\n",
        "\n",
        "print (bicicletas[-1])"
      ],
      "execution_count": null,
      "outputs": [
        {
          "output_type": "stream",
          "name": "stdout",
          "text": [
            "specialized\n"
          ]
        }
      ]
    },
    {
      "cell_type": "code",
      "metadata": {
        "colab": {
          "base_uri": "https://localhost:8080/"
        },
        "id": "vZ-VYZbS89Uk",
        "outputId": "dc84a00c-7ea3-4593-fab9-fe97f4cef2c0"
      },
      "source": [
        "# Y para acceder al penúltimo elemento de una lista se utiliza -2\n",
        "\n",
        "print (bicicletas[-2])"
      ],
      "execution_count": null,
      "outputs": [
        {
          "output_type": "stream",
          "name": "stdout",
          "text": [
            "redline\n"
          ]
        }
      ]
    },
    {
      "cell_type": "markdown",
      "metadata": {
        "id": "efg7uTp7399E"
      },
      "source": [
        "## Cambiando, Agregando y Eliminando elementos\n",
        "\n",
        "En los siguientes apartados se muestra como agregar, eliminar y modificar elementos de una lista"
      ]
    },
    {
      "cell_type": "code",
      "metadata": {
        "colab": {
          "base_uri": "https://localhost:8080/"
        },
        "id": "vC5X-0dG4OXF",
        "outputId": "7783fb36-88c1-4ae3-abdd-b52598fbb230"
      },
      "source": [
        "# Se define una nueva lista\n",
        "\n",
        "motocicletas = [\"honda\", \"yamaha\", \"suzuki\"]\n",
        "print (motocicletas)\n",
        "\n",
        "# Se modifica el primer elemento\n",
        "motocicletas[0] = \"ducati\"\n",
        "print (motocicletas)"
      ],
      "execution_count": null,
      "outputs": [
        {
          "output_type": "stream",
          "name": "stdout",
          "text": [
            "['honda', 'yamaha', 'suzuki']\n",
            "['ducati', 'yamaha', 'suzuki']\n"
          ]
        }
      ]
    },
    {
      "cell_type": "code",
      "metadata": {
        "colab": {
          "base_uri": "https://localhost:8080/"
        },
        "id": "6IjEV0nH44IK",
        "outputId": "0bd11c6b-fea5-49c0-a472-f5936abb68bc"
      },
      "source": [
        "# Modificando de nuevo la lista\n",
        "\n",
        "motocicletas[0] = \"honda\"\n",
        "print (motocicletas)"
      ],
      "execution_count": null,
      "outputs": [
        {
          "output_type": "stream",
          "name": "stdout",
          "text": [
            "['honda', 'yamaha', 'suzuki']\n"
          ]
        }
      ]
    },
    {
      "cell_type": "code",
      "metadata": {
        "colab": {
          "base_uri": "https://localhost:8080/"
        },
        "id": "U9n3wxIO5BjZ",
        "outputId": "db251d07-bb58-455e-e3b6-96717891989d"
      },
      "source": [
        "# Agregando un nuevo elemento con append()\n",
        "\n",
        "motocicletas.append(\"ducati\")\n",
        "print (motocicletas)\n",
        "\n",
        "# NOTA: Obsérvese que el elemento se ha agregado al final de la lista"
      ],
      "execution_count": null,
      "outputs": [
        {
          "output_type": "stream",
          "name": "stdout",
          "text": [
            "['honda', 'yamaha', 'suzuki', 'ducati']\n"
          ]
        }
      ]
    },
    {
      "cell_type": "code",
      "metadata": {
        "colab": {
          "base_uri": "https://localhost:8080/"
        },
        "id": "KpnVRA325awM",
        "outputId": "25c6a528-1d89-4c68-bee0-3a7ea3334729"
      },
      "source": [
        "# Limpiando la lista\n",
        "\n",
        "motocicletas = []\n",
        "print (motocicletas)"
      ],
      "execution_count": null,
      "outputs": [
        {
          "output_type": "stream",
          "name": "stdout",
          "text": [
            "[]\n"
          ]
        }
      ]
    },
    {
      "cell_type": "code",
      "metadata": {
        "colab": {
          "base_uri": "https://localhost:8080/"
        },
        "id": "ajMAEnha5i-A",
        "outputId": "87c9c7fa-337a-4683-bd7a-8ac39d80643d"
      },
      "source": [
        "# Creando la lista mediante append()\n",
        "\n",
        "motocicletas.append(\"honda\")\n",
        "motocicletas.append(\"yamaha\")\n",
        "motocicletas.append(\"suzuki\")\n",
        "motocicletas.append(\"ducati\")\n",
        "\n",
        "print (motocicletas)"
      ],
      "execution_count": null,
      "outputs": [
        {
          "output_type": "stream",
          "name": "stdout",
          "text": [
            "['honda', 'yamaha', 'suzuki', 'ducati']\n"
          ]
        }
      ]
    },
    {
      "cell_type": "code",
      "metadata": {
        "colab": {
          "base_uri": "https://localhost:8080/"
        },
        "id": "ZROSG7s56dSH",
        "outputId": "a4b3ca76-723d-4afc-dd48-19e394f4ae77"
      },
      "source": [
        "# Insertando un elemento en una posición dentro de la lista\n",
        "\n",
        "motocicletas.insert(0, \"kawasaki\")  # Inserta \"kawasaki\"en la posición 0\n",
        "print (motocicletas)"
      ],
      "execution_count": null,
      "outputs": [
        {
          "output_type": "stream",
          "name": "stdout",
          "text": [
            "['kawasaki', 'honda', 'yamaha', 'suzuki', 'ducati']\n"
          ]
        }
      ]
    },
    {
      "cell_type": "code",
      "metadata": {
        "colab": {
          "base_uri": "https://localhost:8080/"
        },
        "id": "Xa8BUkSJ6vKE",
        "outputId": "1672ff1c-a5bf-4043-fd21-801c7acbe6bb"
      },
      "source": [
        "# Inserta un elemento en la posición 2\n",
        "\n",
        "motocicletas.insert(2, \"bmw\")\n",
        "print (motocicletas)"
      ],
      "execution_count": null,
      "outputs": [
        {
          "output_type": "stream",
          "name": "stdout",
          "text": [
            "['kawasaki', 'honda', 'bmw', 'yamaha', 'suzuki', 'ducati']\n"
          ]
        }
      ]
    },
    {
      "cell_type": "code",
      "metadata": {
        "colab": {
          "base_uri": "https://localhost:8080/"
        },
        "id": "rwrEeH_A7A7g",
        "outputId": "6d877ec7-79a9-4b15-a934-2cfc32b31bbf"
      },
      "source": [
        "# Eliminando elementos de una lista\n",
        "# Se elimina el elemento que se acaba de agregar en la posición 2\n",
        "\n",
        "del motocicletas[2]\n",
        "\n",
        "print (motocicletas)"
      ],
      "execution_count": null,
      "outputs": [
        {
          "output_type": "stream",
          "name": "stdout",
          "text": [
            "['kawasaki', 'honda', 'yamaha', 'suzuki', 'ducati']\n"
          ]
        }
      ]
    },
    {
      "cell_type": "code",
      "metadata": {
        "colab": {
          "base_uri": "https://localhost:8080/"
        },
        "id": "lM_KCw_D7ug4",
        "outputId": "56db1592-a017-4040-a716-046bf4430e66"
      },
      "source": [
        "# Removiendo un elemento de una  lista con el método pop()\n",
        "\n",
        "motocicletas = [\"honda\", \"yamaha\", \"suzuki\"]\n",
        "print (\"Lista original\")\n",
        "print (motocicletas)\n",
        "print ()\n",
        "\n",
        "marca_removida = motocicletas.pop()\n",
        "\n",
        "# Se muestran los datos después de esta instrucción\n",
        "\n",
        "print (\"Lista con el elemento removido\")\n",
        "print (motocicletas)\n",
        "print ()\n",
        "print (\"Marca que fue removida\")\n",
        "print (marca_removida)\n",
        "\n",
        "# NOTA:El elemento que se remueve con pop() es aquel que está al final de la lista"
      ],
      "execution_count": null,
      "outputs": [
        {
          "output_type": "stream",
          "name": "stdout",
          "text": [
            "Lista original\n",
            "['honda', 'yamaha', 'suzuki']\n",
            "\n",
            "Lista con el elemento removido\n",
            "['honda', 'yamaha']\n",
            "\n",
            "Marca que fue removida\n",
            "suzuki\n"
          ]
        }
      ]
    },
    {
      "cell_type": "code",
      "metadata": {
        "colab": {
          "base_uri": "https://localhost:8080/"
        },
        "id": "9P_KOHXL826d",
        "outputId": "8d8f4a41-8766-42f0-a2b3-d665d15e55e5"
      },
      "source": [
        "# Removiendo elementos de cualquier posición\n",
        "\n",
        "motocicletas.append(marca_removida)\n",
        "print (\"Marcas iniciales\")\n",
        "print (motocicletas)\n",
        "print ()\n",
        "\n",
        "# Removiendo la primera marca\n",
        "\n",
        "marca_removida = motocicletas.pop(0)   # Se elimina la primera marca, no la última\n",
        "print (\"La lista de motos con la primera marca removida\")\n",
        "print (motocicletas)\n",
        "print ()\n",
        "print (\"La marca removida\")\n",
        "print (marca_removida)"
      ],
      "execution_count": null,
      "outputs": [
        {
          "output_type": "stream",
          "name": "stdout",
          "text": [
            "Marcas iniciales\n",
            "['honda', 'yamaha', 'suzuki']\n",
            "\n",
            "La lista de motos con la primera marca removida\n",
            "['yamaha', 'suzuki']\n",
            "\n",
            "La marca removida\n",
            "honda\n"
          ]
        }
      ]
    },
    {
      "cell_type": "code",
      "metadata": {
        "colab": {
          "base_uri": "https://localhost:8080/"
        },
        "id": "l9EfaRiZ-Kby",
        "outputId": "8c60890e-6a3f-40f9-d245-aaac6ba07eb6"
      },
      "source": [
        "# Removiendo un elemento de una lista utilizando su 'nombre' (valor)\n",
        "# Instrucción: remove()\n",
        "\n",
        "motocicletas = [\"honda\", \"yamaha\", \"suzuki\"]\n",
        "print (\"Lista original\")\n",
        "print (motocicletas)\n",
        "print ()\n",
        "\n",
        "motocicletas.remove(\"suzuki\")\n",
        "\n",
        "print (\"La lista al eliminar suzuki\")\n",
        "print (motocicletas)"
      ],
      "execution_count": null,
      "outputs": [
        {
          "output_type": "stream",
          "name": "stdout",
          "text": [
            "Lista original\n",
            "['honda', 'yamaha', 'suzuki']\n",
            "\n",
            "La lista al eliminar suzuki\n",
            "['honda', 'yamaha']\n"
          ]
        }
      ]
    },
    {
      "cell_type": "markdown",
      "metadata": {
        "id": "VuSDQVna-5Qf"
      },
      "source": [
        "## Ordenando Listas"
      ]
    },
    {
      "cell_type": "code",
      "metadata": {
        "colab": {
          "base_uri": "https://localhost:8080/"
        },
        "id": "k8b_sEhR-7hW",
        "outputId": "9a74ff27-f489-4ae7-fb66-d5d34a0aac7c"
      },
      "source": [
        "# Se crea una lista de coches\n",
        "\n",
        "coches = [\"bmw\", \"audi\", \"subaru\", \"toyota\"]\n",
        "print (\"Lista sin ordenar\")\n",
        "print (coches)\n",
        "print ()\n",
        "\n",
        "# Se ordenan los coches en orden alfabético (no se puede revertir a su estado original)\n",
        "\n",
        "coches.sort()\n",
        "print (\"Lista ordenada\")\n",
        "print (coches)\n",
        "print ()\n",
        "\n",
        "# Lista ordenada en orden inverso\n",
        "\n",
        "coches.sort(reverse = True)\n",
        "print (\"Lista en orden inverso\")\n",
        "print (coches)"
      ],
      "execution_count": null,
      "outputs": [
        {
          "output_type": "stream",
          "name": "stdout",
          "text": [
            "Lista sin ordenar\n",
            "['bmw', 'audi', 'subaru', 'toyota']\n",
            "\n",
            "Lista ordenada\n",
            "['audi', 'bmw', 'subaru', 'toyota']\n",
            "\n",
            "Lista en orden inverso\n",
            "['toyota', 'subaru', 'bmw', 'audi']\n"
          ]
        }
      ]
    },
    {
      "cell_type": "markdown",
      "metadata": {
        "id": "7_sK3Io5AgVJ"
      },
      "source": [
        "## Manteniendo la lista original\n",
        "\n",
        "Para mantener el orden original de una lista pero presentarla en un orden ordenado,\n",
        "puede utilizar la función sorted (). La función sorted () le permite mostrar su lista\n",
        "en un orden en particular, pero no afecta el orden real de la lista."
      ]
    },
    {
      "cell_type": "code",
      "metadata": {
        "colab": {
          "base_uri": "https://localhost:8080/"
        },
        "id": "AQzLvb4JA26A",
        "outputId": "c39cef9c-7ff3-4e4d-eccc-03f456ec969a"
      },
      "source": [
        "# Para mantener el orden original se utilza sorted()\n",
        "\n",
        "coches = [\"bmw\", \"audi\", \"toyota\", \"subaru\"]\n",
        "\n",
        "print (\"Lista original\")\n",
        "print (coches)\n",
        "print ()\n",
        "\n",
        "print (\"Lista ordenada\")\n",
        "print (sorted(coches))\n",
        "print ()\n",
        "\n",
        "print (\"De nuevo, la lista original\")\n",
        "print (coches)\n"
      ],
      "execution_count": null,
      "outputs": [
        {
          "output_type": "stream",
          "name": "stdout",
          "text": [
            "Lista original\n",
            "['bmw', 'audi', 'toyota', 'subaru']\n",
            "\n",
            "Lista ordenada\n",
            "['audi', 'bmw', 'subaru', 'toyota']\n",
            "\n",
            "De nuevo, la lista original\n",
            "['bmw', 'audi', 'toyota', 'subaru']\n"
          ]
        }
      ]
    },
    {
      "cell_type": "markdown",
      "metadata": {
        "id": "7V8WtEqkB0W3"
      },
      "source": [
        "# Invertir la lista en orden cronológico\n",
        "\n",
        "Para invertir el orden original de una lista, puede utilizar el método reverse().\n",
        "Si originalmente almacenamos la lista de coches en orden cronológico, se puede invertir dicho orden según se muestra en el código:"
      ]
    },
    {
      "cell_type": "code",
      "metadata": {
        "colab": {
          "base_uri": "https://localhost:8080/"
        },
        "id": "h4h8IOjNCMSR",
        "outputId": "7d4bf0b2-d3c8-4ae9-a429-8fa6ef931112"
      },
      "source": [
        "coches = [\"bmw\", \"audi\", \"toyota\", \"subaru\"]\n",
        "\n",
        "print (\"Lista original\")\n",
        "print (coches)\n",
        "print ()\n",
        "\n",
        "# Se invierte la lista en orden cronológico\n",
        "coches.reverse()\n",
        "\n",
        "print (\"Lista en orden inverso cronológico\")\n",
        "print (coches)"
      ],
      "execution_count": null,
      "outputs": [
        {
          "output_type": "stream",
          "name": "stdout",
          "text": [
            "Lista original\n",
            "['bmw', 'audi', 'toyota', 'subaru']\n",
            "\n",
            "Lista en orden inverso cronológico\n",
            "['subaru', 'toyota', 'audi', 'bmw']\n"
          ]
        }
      ]
    },
    {
      "cell_type": "markdown",
      "metadata": {
        "id": "IAqQljsaC3I-"
      },
      "source": [
        "## Encontrando la longitud de una lista\n",
        "\n"
      ]
    },
    {
      "cell_type": "code",
      "metadata": {
        "colab": {
          "base_uri": "https://localhost:8080/"
        },
        "id": "5GbdEMYxC_EX",
        "outputId": "66113f38-90e3-4dbd-fa93-ff8065440eeb"
      },
      "source": [
        "coches = [\"bmw\", \"audi\", \"toyota\", \"subaru\"]\n",
        "\n",
        "print (\"Lista original\")\n",
        "print (coches)\n",
        "print ()\n",
        "\n",
        "longitud = len(coches)\n",
        "\n",
        "print (\"Longitud de la lista\")\n",
        "print (longitud)"
      ],
      "execution_count": null,
      "outputs": [
        {
          "output_type": "stream",
          "name": "stdout",
          "text": [
            "Lista original\n",
            "['bmw', 'audi', 'toyota', 'subaru']\n",
            "\n",
            "Longitud de la lista\n",
            "4\n"
          ]
        }
      ]
    }
  ]
}