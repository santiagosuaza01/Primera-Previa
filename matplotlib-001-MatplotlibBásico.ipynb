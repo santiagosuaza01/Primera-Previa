{
  "nbformat": 4,
  "nbformat_minor": 0,
  "metadata": {
    "colab": {
      "name": "matplotlib-#001-MatplotlibBásico.ipynb",
      "provenance": [],
      "collapsed_sections": []
    },
    "kernelspec": {
      "name": "python3",
      "display_name": "Python 3"
    },
    "language_info": {
      "name": "python"
    }
  },
  "cells": [
    {
      "cell_type": "markdown",
      "metadata": {
        "id": "2yyfOE0RZYrH"
      },
      "source": [
        "# MATPLOTLIB\n",
        "\n",
        "Librería gráfica orientada a la matemática"
      ]
    },
    {
      "cell_type": "code",
      "metadata": {
        "colab": {
          "base_uri": "https://localhost:8080/",
          "height": 265
        },
        "id": "FA0a_EXoZXur",
        "outputId": "d768fa6b-1cfd-4150-dcb4-c623363e8f0b"
      },
      "source": [
        "# Se carga la librería\n",
        "import matplotlib.pyplot as plt\n",
        "\n",
        "# Se dibuja (plot) una lista de números\n",
        "plt.plot([1,2,3,4])\n",
        "\n",
        "# Se coloca una etiqueta a la columna vertical\n",
        "plt.ylabel(\"algunos números\")\n",
        "\n",
        "# Lo que se hizo previamente es la definición de las graficas\n",
        "# Para mostrar la gráfica se debe utilizar el método show()\n",
        "plt.show()\n",
        "\n",
        "# NOTA: No se muestran puntos individuales. pyplot une los puntos en una recta\n",
        "# NOTA: pyplot coloca los ejes y los números más convenientes, según los\n",
        "#       los valores graficados"
      ],
      "execution_count": null,
      "outputs": [
        {
          "output_type": "display_data",
          "data": {
            "image/png": "[encoded data removed]",
            "text/plain": [
              "<Figure size 432x288 with 1 Axes>"
            ]
          },
          "metadata": {
            "needs_background": "light"
          }
        }
      ]
    },
    {
      "cell_type": "code",
      "metadata": {
        "colab": {
          "base_uri": "https://localhost:8080/",
          "height": 286
        },
        "id": "JO77JeuRaIU7",
        "outputId": "6abbbcf6-937d-45f9-9c88-8027d1e71d74"
      },
      "source": [
        "# En la siguiente gráfica se presenta una función X Y\n",
        "# La primera lista corresponde a las X, en este caso: [1, 2, 3, 4]\n",
        "# La segunda lista son los valores en Y para cada una de las X\n",
        "# Se tiene la segunda lista: [1, 4, 9, 16]\n",
        "# La correspondencia es: 1 -> 1, 2 -> 4, 3 -> 9, 4 -> 16\n",
        "#\n",
        "# La instrucción 'ro' significa: color rojo (r), y la forma en círculo (o)\n",
        "# Con esta instruccion se indica la manera en que debe dibujarse cada punto\n",
        "#\n",
        "# La instrucción plot tiene, por tanto, 3 parámetros (entre paréntesis)\n",
        "# Primero, la lista X\n",
        "# Segundo, la lista Y\n",
        "# Tercero, la forma en que debe mostrarse cada punto\n",
        "\n",
        "import matplotlib.pyplot as plt\n",
        "\n",
        "plt.plot([1,2,3,4], [1,4,9,16], \"ro\")\n",
        "plt.axis([0, 6, 0, 20])\n",
        "\n",
        "# NOTA: pyplot coloca de manera automática los ejes y sus valores"
      ],
      "execution_count": null,
      "outputs": [
        {
          "output_type": "execute_result",
          "data": {
            "text/plain": [
              "(0.0, 6.0, 0.0, 20.0)"
            ]
          },
          "metadata": {},
          "execution_count": 4
        },
        {
          "output_type": "display_data",
          "data": {
            "image/png": "[encoded data removed]",
            "text/plain": [
              "<Figure size 432x288 with 1 Axes>"
            ]
          },
          "metadata": {
            "needs_background": "light"
          }
        }
      ]
    }
  ]
}