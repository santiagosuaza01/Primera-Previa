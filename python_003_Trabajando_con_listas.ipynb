{
  "nbformat": 4,
  "nbformat_minor": 0,
  "metadata": {
    "colab": {
      "name": "python-003-Trabajando con listas.ipynb",
      "provenance": [],
      "collapsed_sections": []
    },
    "kernelspec": {
      "name": "python3",
      "display_name": "Python 3"
    },
    "language_info": {
      "name": "python"
    }
  },
  "cells": [
    {
      "cell_type": "markdown",
      "metadata": {
        "id": "sxQMRj7kC0rS"
      },
      "source": [
        "## TRABAJANDO CON LISTAS\n",
        "\n",
        "En este documento se muestra como iterar y operar sobre el conjunto de datos contenidos en una lista"
      ]
    },
    {
      "cell_type": "markdown",
      "metadata": {
        "id": "m--d6ynGDWxP"
      },
      "source": [
        "## Iterando sobre una lista"
      ]
    },
    {
      "cell_type": "code",
      "metadata": {
        "colab": {
          "base_uri": "https://localhost:8080/"
        },
        "id": "DrQC7L1dDatO",
        "outputId": "182f7e2f-beb3-45f3-8613-60db16e1e488"
      },
      "source": [
        "# Se define una lista de magos\n",
        "\n",
        "magos = ['alicia', 'david', 'carolina']\n",
        "\n",
        "for un_mago in magos:   # Observe los dos puntos al final de la instrucción\n",
        "  print (un_mago)       # Observe la tabulación inicial (identación)\n",
        "\n",
        "# La instrucción: for, recorre una lista desde el primer elemento hasta el último\n",
        "#\n",
        "# Para acceder a un elemento individual de la lista, se utiliza la instrucción: in\n",
        "#\n",
        "# La instrucción: \n",
        "#\n",
        "#         for un_mago in magos \n",
        "#\n",
        "# significa:\n",
        "#\n",
        "# Se recorre la lista magos desde el primer elemento hasta el último. \n",
        "# Se toma cada elemento de la lista, secuencialmente, y se le da un nombre.\n",
        "#\n",
        "# El nombre para la variable que recoge los datos de la lista es: un_mago \n",
        "#\n",
        "# Esto significa que la variable un_mago, tomará los siguientes valores: \n",
        "# 'alicia', 'david', 'carolina', de modo secuencial y en el orden indicado\n",
        "#\n",
        "# Cada vez que se realiza una asignación (o una nueva asignación) se ejecutarán\n",
        "# todas las instrucciones que están a continuación, siempre y cuando estén identadas hacia la derecha.\n",
        "#\n",
        "# Identado significa que las línea se escribe más hacia la derecha. Si se observa\n",
        "# en el código de las instrucciones, se verá qué hace referencia este concepto:\n",
        "#\n",
        "# for un_mago in magos:\n",
        "#   print (un_mago)\n",
        "#\n",
        "# se verá que la linea: print (un_mago) se escribe un poco más hacia la derecha\n",
        "# A esto se llama identación. Las instrucciones ejecutadas dentro del for son todas aquellas\n",
        "# que estén agrupadas y con la identación hacia la derecha\n",
        "#\n",
        "# Al ingresar por primera vez al ciclo for, la variable un_mago toma el valor: 'alicia'. \n",
        "# Al ejecutar la siguiente instrucción: print (un_mago), se imprime su contenido\n",
        "# Es decir, se imprime: alicia\n",
        "#\n",
        "# Una vez ejecutada esta instrucción, el programa regresa al ciclo for y toma\n",
        "# el siguiente elemento de la lista: 'david' y lo pone en la variable: un_mago\n",
        "# Seguidamente imprime su contenido, es decir, david\n",
        "#\n",
        "# El programa regresa de nuevo al ciclo for, toma la palabra 'carolina' y la coloca\n",
        "# en la variabl un_mago. Al imprimir su contenido, muestra en pantalla: carolina\n",
        "#\n",
        "# El ciclo termina, pues no se encuentran mas elementos en la lista: magos\n",
        "#\n",
        "# El programa termina, pues no hay mas instrucciones después del for"
      ],
      "execution_count": null,
      "outputs": [
        {
          "output_type": "stream",
          "name": "stdout",
          "text": [
            "alicia\n",
            "david\n",
            "carolina\n"
          ]
        }
      ]
    },
    {
      "cell_type": "code",
      "metadata": {
        "colab": {
          "base_uri": "https://localhost:8080/"
        },
        "id": "M7tfebodEUxv",
        "outputId": "bdf263b6-e513-4da4-fd70-73d9948bde96"
      },
      "source": [
        "# En este nuevo programa vamos a agregar mas instrucciones\n",
        "#\n",
        "# Inicialmente se crea una variable entera llamada: i, y se le asigna el valor 1\n",
        "#\n",
        "# Seguidamente se ingresa al ciclo for. \n",
        "# Aquí se recorren todos los valores contenidos en lista magos\n",
        "# Cada valor obtenido de la lista se guarda bajo el nombre: un_mago\n",
        "#\n",
        "# En las siguientes instrucciones después del for, las cuales están identadas,\n",
        "# el dato contenido en: un_mago, se utiliza con diversos propósitos\n",
        "#\n",
        "# Se imprime el nombre del mago, y así mismo el valor contenido en la variable i\n",
        "# \n",
        "# Gracias a esto, se muestran los magos, numerados según su orden en la lista\n",
        "#\n",
        "# NOTA: Dentro del conjunto de instrucciones identadas, se tiene una instrucción\n",
        "# que incrementa el valor de la variable i. Este es el motivo por el cual \n",
        "# cada mago tendrá un número consecutivo que lo identificará\n",
        "\n",
        "i = 1\n",
        "for un_mago in magos:\n",
        "  print (un_mago + \" eres un mago\")\n",
        "  print (\"Estas en la lista en el número: \" + str(i))\n",
        "  print ()\n",
        "  i = i + 1"
      ],
      "execution_count": null,
      "outputs": [
        {
          "output_type": "stream",
          "name": "stdout",
          "text": [
            "alicia eres un mago\n",
            "Estas en la lista en el número: 1\n",
            "\n",
            "david eres un mago\n",
            "Estas en la lista en el número: 2\n",
            "\n",
            "carolina eres un mago\n",
            "Estas en la lista en el número: 3\n",
            "\n"
          ]
        }
      ]
    },
    {
      "cell_type": "markdown",
      "metadata": {
        "id": "icZm7QfIFt5h"
      },
      "source": [
        "## Creando una lista numérica\n",
        "\n",
        "Las listas numéricas almacenan valores que pueden ser manipulados de manera eficiente. En los siguientes apartados se describen algunos métodos en detalle"
      ]
    },
    {
      "cell_type": "markdown",
      "metadata": {
        "id": "STf2RcWiI64s"
      },
      "source": [
        "## Función range()\n",
        "\n",
        "Esta funcion \"define\" un rango de números. A los elementos de dicho rango se puede acceder mediante la instrucción: for\n",
        "\n",
        "Observe el siguiente ejemplo:"
      ]
    },
    {
      "cell_type": "code",
      "metadata": {
        "colab": {
          "base_uri": "https://localhost:8080/"
        },
        "id": "bVmv96Ok4GKc",
        "outputId": "d129cda1-5a32-4a9b-b956-df023ec3e498"
      },
      "source": [
        "# Imprime los números del 1 al 4\n",
        "\n",
        "for valor in range(1, 5):\n",
        "  print (valor)\n",
        "\n",
        "# NOTA: Observe que se imprime desde el 1 HASTA un número antes del límite final (el 5)\n",
        "# Por tanto, se imprimen los números: 1 2 3 4"
      ],
      "execution_count": null,
      "outputs": [
        {
          "output_type": "stream",
          "name": "stdout",
          "text": [
            "1\n",
            "2\n",
            "3\n",
            "4\n"
          ]
        }
      ]
    },
    {
      "cell_type": "markdown",
      "metadata": {
        "id": "QFWV6_se41IL"
      },
      "source": [
        "## Construyendo LISTAS usando la función range()\n",
        "\n",
        "Con la función range() se pueden construir listas. Para ello se debe usar la función: list()\n",
        "\n",
        "En el siguiente ejemplo se aprecia el mecanismo constructivo"
      ]
    },
    {
      "cell_type": "code",
      "metadata": {
        "colab": {
          "base_uri": "https://localhost:8080/"
        },
        "id": "eg9cZXMW5FpY",
        "outputId": "490e942d-3f49-4173-ee42-0467e20719ca"
      },
      "source": [
        "# Se construye la lista usando list() y range()\n",
        "\n",
        "numeros = list ( range(1, 11) )\n",
        "print (numeros)"
      ],
      "execution_count": null,
      "outputs": [
        {
          "output_type": "stream",
          "name": "stdout",
          "text": [
            "[1, 2, 3, 4, 5, 6, 7, 8, 9, 10]\n"
          ]
        }
      ]
    },
    {
      "cell_type": "markdown",
      "metadata": {
        "id": "L4VT2o8I5jZN"
      },
      "source": [
        "## Variante de la función range(). Incremento\n",
        "\n",
        "La función range() permite que el incremento de la variable que controla el avance del ciclo se realice en un valor diferente de uno. Esto significa que se puede incrementar en dos, tres o cualquier otro valor entero. Esto se ilustra en el siguiente ejemplo, en el cual se imprimirán los valores enteros IMPARES entre 1 y 20"
      ]
    },
    {
      "cell_type": "code",
      "metadata": {
        "colab": {
          "base_uri": "https://localhost:8080/"
        },
        "id": "I0mrVPHutmdR",
        "outputId": "70ecb8e3-dbac-44cb-8aa6-ff1d2ec13e0f"
      },
      "source": [
        "# Números impares entre 1 y 20\n",
        "# NOTA: El valor del incremento se agrega como tercer parámetro en la instrucción range()\n",
        "\n",
        "impares = list ( range(1, 20, 2) ) # Al avanzar de dos en dos, empezando en uno, se generan impares\n",
        "print (impares)"
      ],
      "execution_count": null,
      "outputs": [
        {
          "output_type": "stream",
          "name": "stdout",
          "text": [
            "[1, 3, 5, 7, 9, 11, 13, 15, 17, 19]\n"
          ]
        }
      ]
    },
    {
      "cell_type": "code",
      "metadata": {
        "colab": {
          "base_uri": "https://localhost:8080/"
        },
        "id": "_G63OQ4iuR01",
        "outputId": "3eb0b797-0645-43ed-c5f7-329a6cd692cb"
      },
      "source": [
        "# En este ejemplo se crea una lista con los cuadrados de los primeros 10 números\n",
        "\n",
        "lista_cuadrados = []    # Se define una lista vacía\n",
        "# Se recorre los primeros 10 números del rango entre 1 y 10\n",
        "for valor in range (1, 11):\n",
        "  cuadrado = valor ** 2               # Se eleva el valor al cuadrado\n",
        "  lista_cuadrados.append( cuadrado )  # Se agrega el cuadrado a la lista de cuadrados\n",
        "\n",
        "print (lista_cuadrados)"
      ],
      "execution_count": null,
      "outputs": [
        {
          "output_type": "stream",
          "name": "stdout",
          "text": [
            "[1, 4, 9, 16, 25, 36, 49, 64, 81, 100]\n"
          ]
        }
      ]
    },
    {
      "cell_type": "code",
      "metadata": {
        "colab": {
          "base_uri": "https://localhost:8080/"
        },
        "id": "9WdY4fn6vcHW",
        "outputId": "be9af34f-2fe3-442b-f9e9-fcee26c6e424"
      },
      "source": [
        "# Ejemplo compacto de la lista de cuadrados\n",
        "\n",
        "lista_cuadrados = []\n",
        "for valor in range (1, 11):\n",
        "  lista_cuadrados.append( valor ** 2)\n",
        "\n",
        "print (lista_cuadrados)"
      ],
      "execution_count": null,
      "outputs": [
        {
          "output_type": "stream",
          "name": "stdout",
          "text": [
            "[1, 4, 9, 16, 25, 36, 49, 64, 81, 100]\n"
          ]
        }
      ]
    },
    {
      "cell_type": "markdown",
      "metadata": {
        "id": "AwjLl7uH0VdL"
      },
      "source": [
        "## Listas por comprensión\n",
        "\n",
        "Una forma alternativa de realizar el mismo problema anterior, y bastante poderosa, es utilizar las listas por comprensión. El método se ilustra a continuación mediante código Python, y a continuación se explica detalladamente"
      ]
    },
    {
      "cell_type": "code",
      "metadata": {
        "colab": {
          "base_uri": "https://localhost:8080/"
        },
        "id": "Q1RyX2iD0uFq",
        "outputId": "f66abde3-164b-4fcc-e383-fe29c9505f2e"
      },
      "source": [
        "# Listas por comprensión\n",
        "\n",
        "lista_cuadrados = [valor**2 for valor in range(1,11)]\n",
        "print (lista_cuadrados)"
      ],
      "execution_count": null,
      "outputs": [
        {
          "output_type": "stream",
          "name": "stdout",
          "text": [
            "[1, 4, 9, 16, 25, 36, 49, 64, 81, 100]\n"
          ]
        }
      ]
    },
    {
      "cell_type": "markdown",
      "metadata": {
        "id": "OPLPNqKd1MtT"
      },
      "source": [
        "## Explicación de las listas por comprensión\n",
        "\n",
        "Para usar esta sintaxis, comience con un nombre descriptivo para la lista, como por ejemplo: lista_cuadrados. \n",
        "\n",
        "A continuación, abra un conjunto de corchetes y defina la expresión para los valores que desea almacenar en la nueva lista. En este ejemplo, la expresión utilizada es: \n",
        "valor ** 2. \n",
        "\n",
        "A continuación, escriba un ciclo for para generar los números que desea introducir en la expresión,\n",
        "y cierre los corchetes. \n",
        "\n",
        "El ciclo for en este ejemplo es para generar la secuencia de valores en el rango (1, 11), que obtiene secuencialmente los valores del 1 al 10.\n",
        "\n",
        "Esta secuencia de números será utilizada para realizar los cálculos de valor ** 2. \n",
        "\n",
        "Observe que no se utilizan dos puntos al final de la instrucción for.\n",
        "\n",
        "Del modo mostrado, se irán calculando todos los valores a partir del ciclo for, de modo que en el array generado se obtendrán los números: 1 elevado al cuadrado, 2 elevado al cuadrado, 3 elevado al cuadrado, y así sucesivamente."
      ]
    },
    {
      "cell_type": "markdown",
      "metadata": {
        "id": "K-EnwAaW2RT8"
      },
      "source": [
        "## Estadistica simple con listas de números\n",
        "\n",
        "A continuación se muestra como realizar estadísticas muy básicas con números almacenados en listas.\n",
        "\n",
        "Aquí se van a calcular el mínimo valor de la lista, el máximo valor y la suma de todos los elementos contenidos en la lista"
      ]
    },
    {
      "cell_type": "code",
      "metadata": {
        "colab": {
          "base_uri": "https://localhost:8080/"
        },
        "id": "A9gRPFep2uN5",
        "outputId": "3fe0c3de-250d-44ef-d62c-b0fe39d32c28"
      },
      "source": [
        "# Estadísticas simples sobre listas\n",
        "\n",
        "digitos = [0, 1, 2, 3, 4, 5, 6, 7, 8, 9]\n",
        "\n",
        "print (min(digitos))    # Imprime el dígito menor\n",
        "print (max(digitos))    # Imprime el dígito mayor\n",
        "print (sum(digitos))    # Imprime la suma de los dígitos"
      ],
      "execution_count": null,
      "outputs": [
        {
          "output_type": "stream",
          "name": "stdout",
          "text": [
            "0\n",
            "9\n",
            "45\n"
          ]
        }
      ]
    },
    {
      "cell_type": "markdown",
      "metadata": {
        "id": "OkOKG4xabGot"
      },
      "source": [
        "## Haciendo cortes a una lista\n",
        "\n",
        "Para hacer un corte a una lista, se debe indicar cuále es el índice del primero y del último elemento con el que se quiere trabajar. Al igual que con la función range (), Python se detiene un elemento antes de alcanzar el segundo índice que se especifique. Para generar los primeros tres elementos en una lista, se deben solicitar los índices 0 a 3, lo cual devolvería los elementos 0, 1 y 2.\n",
        "\n",
        "En el siguiente ejemplo se accede a los tres primeros elementos de una lista"
      ]
    },
    {
      "cell_type": "code",
      "metadata": {
        "colab": {
          "base_uri": "https://localhost:8080/"
        },
        "id": "kBYM_9Mlb07I",
        "outputId": "761338a2-faf2-4286-8cba-59348307ced7"
      },
      "source": [
        "# Recorte a una lista\n",
        "\n",
        "jugadores = ['carlos', 'martha', 'ana', 'juan', 'alberto', 'josé']\n",
        "print (jugadores[0:3])"
      ],
      "execution_count": null,
      "outputs": [
        {
          "output_type": "stream",
          "name": "stdout",
          "text": [
            "['carlos', 'martha', 'ana']\n"
          ]
        }
      ]
    },
    {
      "cell_type": "markdown",
      "metadata": {
        "id": "lZx-6SFhcsFL"
      },
      "source": [
        "## Omitiendo el primer elemento del corte a una lista\n",
        "\n",
        "Si se omite el primer índice en el corte, Python inicia el corte en el primer elemento de la lista. Observe el siguiente ejemplo:"
      ]
    },
    {
      "cell_type": "code",
      "metadata": {
        "colab": {
          "base_uri": "https://localhost:8080/"
        },
        "id": "FdFgyVqVdAeY",
        "outputId": "751855e3-3250-46f5-c31b-9874eb00c46f"
      },
      "source": [
        "# Se muestra 'carlos', 'martha', 'ana', 'juan', es decir, los elementos: 0, 1, 2, 3\n",
        "\n",
        "print (jugadores[:4])"
      ],
      "execution_count": null,
      "outputs": [
        {
          "output_type": "stream",
          "name": "stdout",
          "text": [
            "['carlos', 'martha', 'ana', 'juan']\n"
          ]
        }
      ]
    },
    {
      "cell_type": "markdown",
      "metadata": {
        "id": "oG4S6YcDdZKR"
      },
      "source": [
        "## Omitiendo el segundo elemento de una lista\n",
        "\n",
        "Si se omite el segundo índice en el corte, Python inicia en el primer valor indicado y termina en el último elemento de la lista. Veamos un ejemplo:"
      ]
    },
    {
      "cell_type": "code",
      "metadata": {
        "colab": {
          "base_uri": "https://localhost:8080/"
        },
        "id": "8hR3fz1Uds5C",
        "outputId": "1ce547d6-0ec6-41f7-d557-165a2d82cfe0"
      },
      "source": [
        "# Inicia en el índice 4 y va hasta el final. El índice 4 se corresponde con 'alberto'\n",
        "\n",
        "print (jugadores[4:])"
      ],
      "execution_count": null,
      "outputs": [
        {
          "output_type": "stream",
          "name": "stdout",
          "text": [
            "['alberto', 'josé']\n"
          ]
        }
      ]
    },
    {
      "cell_type": "markdown",
      "metadata": {
        "id": "D5rf_aG2kIAY"
      },
      "source": [
        "## Omitiendo los dos índices\n",
        "\n",
        "En caso de que se omitan los dos índices, Python utiliza todos los elementos de la lista"
      ]
    },
    {
      "cell_type": "code",
      "metadata": {
        "colab": {
          "base_uri": "https://localhost:8080/"
        },
        "id": "yyid4jHKeLHc",
        "outputId": "c5a20023-0cc7-46e6-a0e9-8e314eaa7ddb"
      },
      "source": [
        "# Omitiendo los dos índices\n",
        "\n",
        "print (jugadores[:])"
      ],
      "execution_count": null,
      "outputs": [
        {
          "output_type": "stream",
          "name": "stdout",
          "text": [
            "['carlos', 'martha', 'ana', 'juan', 'alberto', 'josé']\n"
          ]
        }
      ]
    },
    {
      "cell_type": "markdown",
      "metadata": {
        "id": "1EeFIcLPkzKa"
      },
      "source": [
        "# Utilizando los últimos elementos de la lista\n",
        "\n",
        "Los últimos elementos de la lista se identifican mediante números negativos\n",
        "\n",
        "*   Elemento de lista\n",
        "*   Elemento de lista\n",
        "\n"
      ]
    },
    {
      "cell_type": "code",
      "metadata": {
        "colab": {
          "base_uri": "https://localhost:8080/"
        },
        "id": "YmWOChqYeQ89",
        "outputId": "bcf6c537-ba1d-4700-b8e2-168ef6756300"
      },
      "source": [
        "# Utilizando el último índice\n",
        "\n",
        "print (jugadores[-1:]) "
      ],
      "execution_count": null,
      "outputs": [
        {
          "output_type": "stream",
          "name": "stdout",
          "text": [
            "['josé']\n"
          ]
        }
      ]
    },
    {
      "cell_type": "code",
      "metadata": {
        "colab": {
          "base_uri": "https://localhost:8080/"
        },
        "id": "q4xLS0lQeX6w",
        "outputId": "7c15db5c-de8c-4b2f-a711-d95aab231859"
      },
      "source": [
        "# Utilizando los dos últimos índices\n",
        "\n",
        "print (jugadores[-2:])"
      ],
      "execution_count": null,
      "outputs": [
        {
          "output_type": "stream",
          "name": "stdout",
          "text": [
            "['alberto', 'josé']\n"
          ]
        }
      ]
    },
    {
      "cell_type": "code",
      "metadata": {
        "colab": {
          "base_uri": "https://localhost:8080/"
        },
        "id": "V5_9DsQree-z",
        "outputId": "bdf1cad3-4968-46d3-a85c-8cedfccea0ab"
      },
      "source": [
        "# Utilizando los tres últimos índices (y así sucesivamente) \n",
        "\n",
        "print (jugadores[-3:])"
      ],
      "execution_count": null,
      "outputs": [
        {
          "output_type": "stream",
          "name": "stdout",
          "text": [
            "['juan', 'alberto', 'josé']\n"
          ]
        }
      ]
    },
    {
      "cell_type": "markdown",
      "metadata": {
        "id": "YrGUgGt4lFp1"
      },
      "source": [
        "## Iterando sobre los elementos del corte de una lista\n",
        "\n",
        "Los elementos encontrados en el corte pueden ser recorridos utilizando una instrucción for"
      ]
    },
    {
      "cell_type": "code",
      "metadata": {
        "colab": {
          "base_uri": "https://localhost:8080/"
        },
        "id": "yLKz0iKmlWI4",
        "outputId": "2b7e65f4-5d26-4898-e227-e747f48e6eeb"
      },
      "source": [
        "# Recorriendo los elementos de un corte\n",
        "# Se eligen e imprimen los jugadores: 'carlos', 'martha', 'ana'\n",
        "# Los tres primeros jugadores\n",
        "\n",
        "jugadores = ['carlos', 'martha', 'ana', 'juan', 'alberto', 'josé']\n",
        "for valor in jugadores[0:3]:\n",
        "  print (valor)"
      ],
      "execution_count": null,
      "outputs": [
        {
          "output_type": "stream",
          "name": "stdout",
          "text": [
            "carlos\n",
            "martha\n",
            "ana\n"
          ]
        }
      ]
    },
    {
      "cell_type": "markdown",
      "metadata": {
        "id": "VJo3aeU2rSTd"
      },
      "source": [
        "## Copiando los elementos de una lista\n",
        "\n",
        "Para copiar una lista, puede crear un corte que incluya toda la lista original. Esto se logra omitiendo el primer índice y el segundo índice ([:]). \n",
        "\n",
        "Esto le indica a Python que realice un corte que comience en el primer elemento y termine con el último elemento, \n",
        "\n",
        "Por ejemplo, imagine que tenemos una lista de nuestras películas favoritas y queremos hacer una lista separada de las películas que le gustan a un amigo. \n",
        "\n",
        "Al amigo le gusta todo lo que tenemos en nuestra lista. Por este motivo podemos crearle su lista a partir de la nuestra. Observe el siguiente código."
      ]
    },
    {
      "cell_type": "code",
      "metadata": {
        "colab": {
          "base_uri": "https://localhost:8080/"
        },
        "id": "aUSQfox3sFEz",
        "outputId": "d90e8b99-7591-4c6f-8132-b2ff502aead2"
      },
      "source": [
        "# Copiando una lista\n",
        "\n",
        "mis_peliculas = ['bond', 'matrix', 'avengers', 'padrino']\n",
        "peliculas_amigo = mis_peliculas[:]\n",
        "\n",
        "print (mis_peliculas)\n",
        "print ()\n",
        "print (peliculas_amigo)"
      ],
      "execution_count": null,
      "outputs": [
        {
          "output_type": "stream",
          "name": "stdout",
          "text": [
            "['bond', 'matrix', 'avengers', 'padrino']\n",
            "\n",
            "['bond', 'matrix', 'avengers', 'padrino']\n"
          ]
        }
      ]
    },
    {
      "cell_type": "markdown",
      "metadata": {
        "id": "xcZKPi25dyk0"
      },
      "source": [
        "## TUPLAS\n",
        "\n",
        "Las listas funcionan bien para almacenar conjuntos de elementos que pueden cambiar a lo largo de la vida de un programa. La capacidad de modificar listas es particularmente importante cuando estás trabajando con una lista de usuarios en un sitio web o una lista de caracteres en un juego. Sin embargo, a veces querrá crear una lista de elementos que no cambien. Las tuplas te permiten hacer precisamente eso. Python se refiere a valores que no pueden cambiar con el término 'inmutable'.\n",
        "\n",
        "Una lista inmutable se llama tupla."
      ]
    },
    {
      "cell_type": "markdown",
      "metadata": {
        "id": "c3JvC89pesLt"
      },
      "source": [
        "## Definiendo una tupla\n",
        "\n",
        "Una tupla se parece a una lista, excepto que usa paréntesis en lugar de corchetes. Una vez que defina una tupla, puede acceder a elementos individuales mediante\n",
        "el índice de cada elemento, tal como lo haría para una lista. Por ejemplo, si tenemos un rectángulo que siempre debe tener un tamaño determinado, podemos asegurarnos de que su tamaño no cambie colocando las dimensiones en una tupla"
      ]
    },
    {
      "cell_type": "code",
      "metadata": {
        "colab": {
          "base_uri": "https://localhost:8080/"
        },
        "id": "ix1_JRWYfCrw",
        "outputId": "f27e5090-5409-4f3e-fd47-95928d5463ce"
      },
      "source": [
        "# Se definen las dimensiones como una tupla\n",
        "\n",
        "dimensiones = (200, 50)\n",
        "\n",
        "print (dimensiones[0])\n",
        "print (dimensiones[1])"
      ],
      "execution_count": null,
      "outputs": [
        {
          "output_type": "stream",
          "name": "stdout",
          "text": [
            "200\n",
            "50\n"
          ]
        }
      ]
    },
    {
      "cell_type": "markdown",
      "metadata": {
        "id": "iS59Qb0cfw8h"
      },
      "source": [
        "Veamos qué sucede si intentamos cambiar uno de los elementos de la tupla."
      ]
    },
    {
      "cell_type": "code",
      "metadata": {
        "colab": {
          "base_uri": "https://localhost:8080/",
          "height": 205
        },
        "id": "VslRsFxlf4Su",
        "outputId": "23d73201-0275-4b2e-fdf7-521713b987a3"
      },
      "source": [
        "dimensiones[0] = 250\n",
        "\n",
        "# NOTA: Se produce un error, pues la dimensión no se puede modificar"
      ],
      "execution_count": null,
      "outputs": [
        {
          "output_type": "error",
          "ename": "TypeError",
          "evalue": "ignored",
          "traceback": [
            "\u001b[0;31m---------------------------------------------------------------------------\u001b[0m",
            "\u001b[0;31mTypeError\u001b[0m                                 Traceback (most recent call last)",
            "\u001b[0;32m<ipython-input-3-a2bcfb706900>\u001b[0m in \u001b[0;36m<module>\u001b[0;34m()\u001b[0m\n\u001b[0;32m----> 1\u001b[0;31m \u001b[0mdimensiones\u001b[0m\u001b[0;34m[\u001b[0m\u001b[0;36m0\u001b[0m\u001b[0;34m]\u001b[0m \u001b[0;34m=\u001b[0m \u001b[0;36m250\u001b[0m\u001b[0;34m\u001b[0m\u001b[0;34m\u001b[0m\u001b[0m\n\u001b[0m\u001b[1;32m      2\u001b[0m \u001b[0;34m\u001b[0m\u001b[0m\n\u001b[1;32m      3\u001b[0m \u001b[0;31m# NOTA: Se produce un error, pues la dimensión no se puede modificar\u001b[0m\u001b[0;34m\u001b[0m\u001b[0;34m\u001b[0m\u001b[0;34m\u001b[0m\u001b[0m\n",
            "\u001b[0;31mTypeError\u001b[0m: 'tuple' object does not support item assignment"
          ]
        }
      ]
    },
    {
      "cell_type": "markdown",
      "metadata": {
        "id": "NWPs1EPFgTdb"
      },
      "source": [
        "## Recorrer todos los valores en una tupla\n",
        "\n",
        "Se pueden recorrer todos los valores en una tupla usando un bucle for, tal como lo hizo con una lista:"
      ]
    },
    {
      "cell_type": "code",
      "metadata": {
        "colab": {
          "base_uri": "https://localhost:8080/"
        },
        "id": "qUspIwktgqSO",
        "outputId": "f03c2d17-a560-4f44-ec06-9f9e54ed00e7"
      },
      "source": [
        "# Se recorre la tupla\n",
        "\n",
        "dimensiones = (200, 50)\n",
        "\n",
        "for una_dimension in dimensiones:\n",
        "  print (una_dimension)"
      ],
      "execution_count": null,
      "outputs": [
        {
          "output_type": "stream",
          "name": "stdout",
          "text": [
            "200\n",
            "50\n"
          ]
        }
      ]
    },
    {
      "cell_type": "markdown",
      "metadata": {
        "id": "WT4lkwBuhDNj"
      },
      "source": [
        "## Escribir sobre una tupla\n",
        "\n",
        "Aunque no ser puede modificar una tupla, se puede asignar un nuevo valor a una variable que contiene una tupla. Entonces, si quisiéramos cambiar todas las dimensiones, podríamos redefinir toda la tupla:"
      ]
    },
    {
      "cell_type": "code",
      "metadata": {
        "colab": {
          "base_uri": "https://localhost:8080/"
        },
        "id": "bH4gYpv8hU3A",
        "outputId": "061f7396-f59c-4528-f600-cc652e410ee1"
      },
      "source": [
        "# Se define una tupla\n",
        "\n",
        "dimensiones = (200, 50)\n",
        "\n",
        "print (\"Dimensiones Originales:\")\n",
        "for dimension in dimensiones:\n",
        "  print (dimension)\n",
        "\n",
        "# Se cambia completamente todo el contenido de la tupla\n",
        "# Este es el mecanismo para modificar una tupla:\n",
        "# Modificándola completamente\n",
        "\n",
        "dimensiones = (400, 100)\n",
        "\n",
        "print (\"\\nDimensiones Modificadas:\")\n",
        "for dimension in dimensiones:\n",
        "  print (dimension)"
      ],
      "execution_count": null,
      "outputs": [
        {
          "output_type": "stream",
          "name": "stdout",
          "text": [
            "Dimensiones Originales:\n",
            "200\n",
            "50\n",
            "\n",
            "Dimensiones Modificadas:\n",
            "400\n",
            "100\n"
          ]
        }
      ]
    },
    {
      "cell_type": "markdown",
      "metadata": {
        "id": "X8ZF4vaEiRZp"
      },
      "source": [
        "## Final del módulo: trabajando con Listas"
      ]
    }
  ]
}